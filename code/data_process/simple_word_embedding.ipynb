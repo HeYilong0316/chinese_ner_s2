{
 "metadata": {
  "language_info": {
   "codemirror_mode": {
    "name": "ipython",
    "version": 3
   },
   "file_extension": ".py",
   "mimetype": "text/x-python",
   "name": "python",
   "nbconvert_exporter": "python",
   "pygments_lexer": "ipython3",
   "version": "3.7.3-final"
  },
  "orig_nbformat": 2,
  "kernelspec": {
   "name": "Python 3.7.3 64-bit ('pytorch': conda)",
   "display_name": "Python 3.7.3 64-bit ('pytorch': conda)",
   "metadata": {
    "interpreter": {
     "hash": "f0221e5a3fdc0c5b354db2f00ee629a50371a6352bfa0784160a402b967acb8b"
    }
   }
  }
 },
 "nbformat": 4,
 "nbformat_minor": 2,
 "cells": [
  {
   "cell_type": "code",
   "execution_count": 2,
   "metadata": {},
   "outputs": [
    {
     "output_type": "stream",
     "name": "stdout",
     "text": [
      "/home/heyilong/codes/chinese_medical_ner_submit/project/code\n"
     ]
    }
   ],
   "source": [
    "# 进入工作目录\n",
    "%cd ../"
   ]
  },
  {
   "cell_type": "code",
   "execution_count": null,
   "metadata": {
    "tags": []
   },
   "outputs": [],
   "source": [
    "# 读取预处理后的文本数据\n",
    "train_path = \"../data/train\"\n",
    "test_path = \"../data/chusai\"\n",
    "\n",
    "from data_process.preprocess import PreProcess\n",
    "from glob import glob\n",
    "\n",
    "text_list = glob(train_path + \"/*.txt\") + glob(test_path + \"*.txt\")\n",
    "\n",
    "texts = []\n",
    "for txt_name in text_list:\n",
    "    preprocess = PreProcess(txt_name)\n",
    "    conll, info = preprocess.brat2conll()\n",
    "    for sen in conll:\n",
    "        text = \"\".join([c[0] for c in sen]).replace(\"[unused1]\", \" \")\n",
    "        texts.append(text)\n",
    "\n"
   ]
  },
  {
   "cell_type": "code",
   "execution_count": null,
   "metadata": {},
   "outputs": [],
   "source": [
    "# 读取tencent词向量中的所有word, 生成vocab\n",
    "from tqdm import tqdm\n",
    "vocab = []\n",
    "\n",
    "i = 10\n",
    "is_first = True\n",
    "pbar = None\n",
    "with open(\"../data/tencent_embedding/Tencent_AILab_ChineseEmbedding.txt\", \"r\", encoding=\"utf8\") as r:\n",
    "    for line in r:\n",
    "        ls = line.rstrip().split(\" \", 1)\n",
    "        if is_first:\n",
    "            pbar = tqdm(total=int(ls[0]))\n",
    "            is_first = False\n",
    "            continue\n",
    "        else:\n",
    "            vocab.append(ls[0])\n",
    "            pbar.update(1)\n",
    "\n",
    "pbar.close()\n",
    "vocab = sorted(vocab) # 按ascii排序，防止词id改变\n",
    "\n",
    "with open(\"../data/tencent_embedding/vocab.txt\", \"w\", encoding=\"utf8\") as w:\n",
    "    w.write(\"\\n\".join(vocab))"
   ]
  },
  {
   "cell_type": "code",
   "execution_count": null,
   "metadata": {},
   "outputs": [],
   "source": [
    "from tqdm import tqdm\n",
    "# from ruler.flashtext import KeywordProcessor\n",
    "# simlpe_tencent_vocab = set()\n",
    "# tree_trie = KeywordProcessor()\n",
    "# tree_trie.add_keywords_from_list(vocab)\n",
    "\n",
    "all_text = \"\"\n",
    "for text in tqdm(texts):\n",
    "    all_text+=text\n",
    "simlpe_tencent_vocab = set()\n",
    "for word in tqdm(vocab):\n",
    "    if word in all_text:\n",
    "        simlpe_tencent_vocab.add(word)\n",
    "\n",
    "simlpe_tencent_vocab.add(\"</s>\")\n",
    "simlpe_tencent_vocab.add(\"unk\")"
   ]
  },
  {
   "cell_type": "code",
   "execution_count": null,
   "metadata": {},
   "outputs": [],
   "source": [
    "# 生成tencent简化版词向量\n",
    "simlpe_tencent_embedding = []\n",
    "is_first = True\n",
    "pbar = None\n",
    "with open(\"../data/tencent_embedding/Tencent_AILab_ChineseEmbedding.txt\", \"r\", encoding=\"utf8\") as r:\n",
    "    for line in r:\n",
    "        ls = line.rstrip().split(\" \", 1)\n",
    "        if is_first:\n",
    "            pbar = tqdm(total=int(ls[0]))\n",
    "            is_first = False\n",
    "            continue\n",
    "        else:\n",
    "            if ls[0] in simlpe_tencent_vocab:\n",
    "                simlpe_tencent_embedding.append(ls)\n",
    "            pbar.update(1)\n",
    "pbar.close()\n",
    "\n",
    "simlpe_tencent_vocab = sorted(list(simlpe_tencent_vocab))"
   ]
  },
  {
   "cell_type": "code",
   "execution_count": null,
   "metadata": {},
   "outputs": [],
   "source": [
    "# 储存相关数据\n",
    "import numpy as np\n",
    "simlpe_tencent_embedding = {emb[0]:np.array([float(e) for e in emb[1].split(\" \")]) for emb in simlpe_tencent_embedding}\n",
    "np.save(\"../user_data/data/dicts/simple_tencent_embedding.npy\", simlpe_tencent_embedding)\n",
    "\n",
    "with open(\"../user_data/data/dicts/simple_tencent_vocab.txt\", \"w\", encoding=\"utf8\") as w:\n",
    "    w.write(\"\\n\".join(simlpe_tencent_vocab))\n"
   ]
  },
  {
   "cell_type": "code",
   "execution_count": 3,
   "metadata": {},
   "outputs": [
    {
     "output_type": "stream",
     "name": "stderr",
     "text": [
      "Building prefix dict from /home/heyilong/codes/chinese_medical_ner_submit/project/user_data/data/dicts/simple_tencent_vocab.txt ...\n"
     ]
    },
    {
     "output_type": "error",
     "ename": "ValueError",
     "evalue": "invalid dictionary entry in /home/heyilong/codes/chinese_medical_ner_submit/project/user_data/data/dicts/simple_tencent_vocab.txt at Line 1: \"",
     "traceback": [
      "\u001b[0;31m---------------------------------------------------------------------------\u001b[0m",
      "\u001b[0;31mValueError\u001b[0m                                Traceback (most recent call last)",
      "\u001b[0;32m~/.local/lib/python3.7/site-packages/jieba/__init__.py\u001b[0m in \u001b[0;36mgen_pfdict\u001b[0;34m(self, f)\u001b[0m\n\u001b[1;32m     76\u001b[0m                 \u001b[0mline\u001b[0m \u001b[0;34m=\u001b[0m \u001b[0mline\u001b[0m\u001b[0;34m.\u001b[0m\u001b[0mstrip\u001b[0m\u001b[0;34m(\u001b[0m\u001b[0;34m)\u001b[0m\u001b[0;34m.\u001b[0m\u001b[0mdecode\u001b[0m\u001b[0;34m(\u001b[0m\u001b[0;34m'utf-8'\u001b[0m\u001b[0;34m)\u001b[0m\u001b[0;34m\u001b[0m\u001b[0;34m\u001b[0m\u001b[0m\n\u001b[0;32m---> 77\u001b[0;31m                 \u001b[0mword\u001b[0m\u001b[0;34m,\u001b[0m \u001b[0mfreq\u001b[0m \u001b[0;34m=\u001b[0m \u001b[0mline\u001b[0m\u001b[0;34m.\u001b[0m\u001b[0msplit\u001b[0m\u001b[0;34m(\u001b[0m\u001b[0;34m' '\u001b[0m\u001b[0;34m)\u001b[0m\u001b[0;34m[\u001b[0m\u001b[0;34m:\u001b[0m\u001b[0;36m2\u001b[0m\u001b[0;34m]\u001b[0m\u001b[0;34m\u001b[0m\u001b[0;34m\u001b[0m\u001b[0m\n\u001b[0m\u001b[1;32m     78\u001b[0m                 \u001b[0mfreq\u001b[0m \u001b[0;34m=\u001b[0m \u001b[0mint\u001b[0m\u001b[0;34m(\u001b[0m\u001b[0mfreq\u001b[0m\u001b[0;34m)\u001b[0m\u001b[0;34m\u001b[0m\u001b[0;34m\u001b[0m\u001b[0m\n",
      "\u001b[0;31mValueError\u001b[0m: not enough values to unpack (expected 2, got 1)",
      "\nDuring handling of the above exception, another exception occurred:\n",
      "\u001b[0;31mValueError\u001b[0m                                Traceback (most recent call last)",
      "\u001b[0;32m<ipython-input-3-a52dd360fd8a>\u001b[0m in \u001b[0;36m<module>\u001b[0;34m\u001b[0m\n\u001b[1;32m      2\u001b[0m \u001b[0;34m\u001b[0m\u001b[0m\n\u001b[1;32m      3\u001b[0m \u001b[0;32mimport\u001b[0m \u001b[0mjieba\u001b[0m\u001b[0;34m\u001b[0m\u001b[0;34m\u001b[0m\u001b[0m\n\u001b[0;32m----> 4\u001b[0;31m \u001b[0mjieba\u001b[0m\u001b[0;34m.\u001b[0m\u001b[0minitialize\u001b[0m\u001b[0;34m(\u001b[0m\u001b[0;34m\"../user_data/data/dicts/simple_tencent_vocab.txt\"\u001b[0m\u001b[0;34m)\u001b[0m\u001b[0;34m\u001b[0m\u001b[0;34m\u001b[0m\u001b[0m\n\u001b[0m",
      "\u001b[0;32m~/.local/lib/python3.7/site-packages/jieba/__init__.py\u001b[0m in \u001b[0;36minitialize\u001b[0;34m(self, dictionary)\u001b[0m\n\u001b[1;32m    141\u001b[0m                 \u001b[0mDICT_WRITING\u001b[0m\u001b[0;34m[\u001b[0m\u001b[0mabs_path\u001b[0m\u001b[0;34m]\u001b[0m \u001b[0;34m=\u001b[0m \u001b[0mwlock\u001b[0m\u001b[0;34m\u001b[0m\u001b[0;34m\u001b[0m\u001b[0m\n\u001b[1;32m    142\u001b[0m                 \u001b[0;32mwith\u001b[0m \u001b[0mwlock\u001b[0m\u001b[0;34m:\u001b[0m\u001b[0;34m\u001b[0m\u001b[0;34m\u001b[0m\u001b[0m\n\u001b[0;32m--> 143\u001b[0;31m                     \u001b[0mself\u001b[0m\u001b[0;34m.\u001b[0m\u001b[0mFREQ\u001b[0m\u001b[0;34m,\u001b[0m \u001b[0mself\u001b[0m\u001b[0;34m.\u001b[0m\u001b[0mtotal\u001b[0m \u001b[0;34m=\u001b[0m \u001b[0mself\u001b[0m\u001b[0;34m.\u001b[0m\u001b[0mgen_pfdict\u001b[0m\u001b[0;34m(\u001b[0m\u001b[0mself\u001b[0m\u001b[0;34m.\u001b[0m\u001b[0mget_dict_file\u001b[0m\u001b[0;34m(\u001b[0m\u001b[0;34m)\u001b[0m\u001b[0;34m)\u001b[0m\u001b[0;34m\u001b[0m\u001b[0;34m\u001b[0m\u001b[0m\n\u001b[0m\u001b[1;32m    144\u001b[0m                     default_logger.debug(\n\u001b[1;32m    145\u001b[0m                         \"Dumping model to file cache %s\" % cache_file)\n",
      "\u001b[0;32m~/.local/lib/python3.7/site-packages/jieba/__init__.py\u001b[0m in \u001b[0;36mgen_pfdict\u001b[0;34m(self, f)\u001b[0m\n\u001b[1;32m     85\u001b[0m             \u001b[0;32mexcept\u001b[0m \u001b[0mValueError\u001b[0m\u001b[0;34m:\u001b[0m\u001b[0;34m\u001b[0m\u001b[0;34m\u001b[0m\u001b[0m\n\u001b[1;32m     86\u001b[0m                 raise ValueError(\n\u001b[0;32m---> 87\u001b[0;31m                     'invalid dictionary entry in %s at Line %s: %s' % (f_name, lineno, line))\n\u001b[0m\u001b[1;32m     88\u001b[0m         \u001b[0mf\u001b[0m\u001b[0;34m.\u001b[0m\u001b[0mclose\u001b[0m\u001b[0;34m(\u001b[0m\u001b[0;34m)\u001b[0m\u001b[0;34m\u001b[0m\u001b[0;34m\u001b[0m\u001b[0m\n\u001b[1;32m     89\u001b[0m         \u001b[0;32mreturn\u001b[0m \u001b[0mlfreq\u001b[0m\u001b[0;34m,\u001b[0m \u001b[0mltotal\u001b[0m\u001b[0;34m\u001b[0m\u001b[0;34m\u001b[0m\u001b[0m\n",
      "\u001b[0;31mValueError\u001b[0m: invalid dictionary entry in /home/heyilong/codes/chinese_medical_ner_submit/project/user_data/data/dicts/simple_tencent_vocab.txt at Line 1: \""
     ]
    }
   ],
   "source": [
    "# 切词后，tencent_embedding中词的占比\n",
    "\n",
    "import jieba\n",
    "jieba.initialize(\"../user_data/data/dicts/simple_tencent_vocab.txt\")"
   ]
  },
  {
   "cell_type": "code",
   "execution_count": null,
   "metadata": {},
   "outputs": [],
   "source": [
    "all_words = set()\n",
    "tencent_words = set()\n",
    "\n",
    "for text in texts:\n",
    "    for word in jieba.cut(text):\n",
    "        all_words.add(word)\n",
    "        if word in simlpe_tencent_vocab:\n",
    "            tencent_words.add(word)"
   ]
  },
  {
   "cell_type": "code",
   "execution_count": null,
   "metadata": {},
   "outputs": [],
   "source": [
    "len(all_words)"
   ]
  },
  {
   "cell_type": "code",
   "execution_count": null,
   "metadata": {},
   "outputs": [],
   "source": [
    "len(tencent_words)"
   ]
  },
  {
   "cell_type": "code",
   "execution_count": null,
   "metadata": {},
   "outputs": [],
   "source": [
    "\"麻黄碱\" in simlpe_tencent_vocab"
   ]
  },
  {
   "cell_type": "code",
   "execution_count": null,
   "metadata": {},
   "outputs": [],
   "source": [
    "all_words - tencent_words"
   ]
  },
  {
   "cell_type": "code",
   "execution_count": null,
   "metadata": {},
   "outputs": [],
   "source": [
    "\"使用\" in vocab"
   ]
  },
  {
   "cell_type": "code",
   "execution_count": null,
   "metadata": {},
   "outputs": [],
   "source": []
  }
 ]
}