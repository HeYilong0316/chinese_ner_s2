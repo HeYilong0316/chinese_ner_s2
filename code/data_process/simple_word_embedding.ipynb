{
 "metadata": {
  "language_info": {
   "codemirror_mode": {
    "name": "ipython",
    "version": 3
   },
   "file_extension": ".py",
   "mimetype": "text/x-python",
   "name": "python",
   "nbconvert_exporter": "python",
   "pygments_lexer": "ipython3",
   "version": "3.7.3-final"
  },
  "orig_nbformat": 2,
  "kernelspec": {
   "name": "Python 3.7.3 64-bit ('pytorch': conda)",
   "display_name": "Python 3.7.3 64-bit ('pytorch': conda)",
   "metadata": {
    "interpreter": {
     "hash": "f0221e5a3fdc0c5b354db2f00ee629a50371a6352bfa0784160a402b967acb8b"
    }
   }
  }
 },
 "nbformat": 4,
 "nbformat_minor": 2,
 "cells": [
  {
   "cell_type": "code",
   "execution_count": 1,
   "metadata": {},
   "outputs": [
    {
     "output_type": "stream",
     "name": "stdout",
     "text": [
      "/home/heyilong/codes/chinese_medical_ner_submit/project/code\n"
     ]
    }
   ],
   "source": [
    "# 进入工作目录\n",
    "%cd ../"
   ]
  },
  {
   "cell_type": "code",
   "execution_count": 2,
   "metadata": {
    "tags": []
   },
   "outputs": [
    {
     "output_type": "stream",
     "name": "stdout",
     "text": [
      "invalid literal for int() with base 10: '--ip=127.0.0.1'\nK_FOLD: 10, MAX_LEN: 512\n[]\n"
     ]
    }
   ],
   "source": [
    "# 读取预处理后的文本数据\n",
    "train_path = \"../user_data/data/train\"\n",
    "test_path = \"../data/chusai\"\n",
    "\n",
    "from data_process.preprocess import PreProcess\n",
    "from glob import glob\n",
    "\n",
    "text_list = glob(train_path + \"/*.txt\") + glob(test_path + \"*.txt\")\n",
    "\n",
    "texts = []\n",
    "for txt_name in text_list:\n",
    "    preprocess = PreProcess(txt_name)\n",
    "    conll, info = preprocess.brat2conll()\n",
    "    for sen in conll:\n",
    "        text = \"\".join([c[0] for c in sen]).replace(\"[unused1]\", \" \")\n",
    "        texts.append(text)\n",
    "\n"
   ]
  },
  {
   "cell_type": "code",
   "execution_count": 3,
   "metadata": {},
   "outputs": [
    {
     "output_type": "stream",
     "name": "stderr",
     "text": [
      "100%|██████████| 8824330/8824330 [01:44<00:00, 84551.01it/s]\n"
     ]
    }
   ],
   "source": [
    "# 读取tencent词向量中的所有word, 生成vocab\n",
    "from tqdm import tqdm\n",
    "vocab = []\n",
    "\n",
    "i = 10\n",
    "is_first = True\n",
    "pbar = None\n",
    "with open(\"../data/tencent_embedding/Tencent_AILab_ChineseEmbedding.txt\", \"r\", encoding=\"utf8\") as r:\n",
    "    for line in r:\n",
    "        ls = line.rstrip().split(\" \", 1)\n",
    "        if is_first:\n",
    "            pbar = tqdm(total=int(ls[0]))\n",
    "            is_first = False\n",
    "            continue\n",
    "        else:\n",
    "            vocab.append(ls[0])\n",
    "            pbar.update(1)\n",
    "\n",
    "pbar.close()\n",
    "vocab = sorted(vocab) # 按ascii排序，防止词id改变\n",
    "\n",
    "with open(\"../data/tencent_embedding/vocab.txt\", \"w\", encoding=\"utf8\") as w:\n",
    "    w.write(\"\\n\".join(vocab))"
   ]
  },
  {
   "cell_type": "code",
   "execution_count": 4,
   "metadata": {},
   "outputs": [
    {
     "output_type": "stream",
     "name": "stderr",
     "text": [
      "100%|██████████| 1171/1171 [00:00<00:00, 405275.19it/s]\n",
      "100%|██████████| 8824330/8824330 [00:43<00:00, 203533.17it/s]\n"
     ]
    }
   ],
   "source": [
    "from tqdm import tqdm\n",
    "# from ruler.flashtext import KeywordProcessor\n",
    "# simlpe_tencent_vocab = set()\n",
    "# tree_trie = KeywordProcessor()\n",
    "# tree_trie.add_keywords_from_list(vocab)\n",
    "\n",
    "from ahocorasick import Automaton\n",
    "\n",
    "\n",
    "\n",
    "\n",
    "all_text = \"\"\n",
    "for text in tqdm(texts):\n",
    "    all_text+=text\n",
    "\n",
    "ac_tree = Automaton()\n",
    "for i, word in tqdm(list(enumerate(vocab))):\n",
    "    ac_tree.add_word(word, [i, word])\n",
    "ac_tree.make_automaton()\n",
    "\n",
    "simlpe_tencent_vocab = {}\n",
    "for end_pos, (i, word) in ac_tree.iter(all_text):\n",
    "    simlpe_tencent_vocab[word] = simlpe_tencent_vocab.get(word, 0) + 1\n",
    "\n",
    "\n",
    "simlpe_tencent_vocab[\"</s>\"]=10000\n",
    "simlpe_tencent_vocab[\"unk\"]=10000\n"
   ]
  },
  {
   "cell_type": "code",
   "execution_count": 5,
   "metadata": {},
   "outputs": [
    {
     "output_type": "execute_result",
     "data": {
      "text/plain": [
       "22661"
      ]
     },
     "metadata": {},
     "execution_count": 5
    }
   ],
   "source": [
    "# 22661\n",
    "len(simlpe_tencent_vocab)"
   ]
  },
  {
   "cell_type": "code",
   "execution_count": 6,
   "metadata": {},
   "outputs": [
    {
     "output_type": "stream",
     "name": "stderr",
     "text": [
      "100%|██████████| 8824330/8824330 [01:44<00:00, 84428.67it/s]\n"
     ]
    }
   ],
   "source": [
    "# 生成tencent简化版词向量\n",
    "simlpe_tencent_embedding = []\n",
    "is_first = True\n",
    "pbar = None\n",
    "with open(\"../data/tencent_embedding/Tencent_AILab_ChineseEmbedding.txt\", \"r\", encoding=\"utf8\") as r:\n",
    "    for line in r:\n",
    "        ls = line.rstrip().split(\" \", 1)\n",
    "        if is_first:\n",
    "            pbar = tqdm(total=int(ls[0]))\n",
    "            is_first = False\n",
    "            continue\n",
    "        else:\n",
    "            if ls[0] in simlpe_tencent_vocab:\n",
    "                if ls[0] == \"unk\":\n",
    "                    ls[0] = \"[UNK]\"\n",
    "                elif ls[0] == \"</s>\":\n",
    "                    ls [0] = \"[unused1]\"\n",
    "                simlpe_tencent_embedding.append(ls)\n",
    "            pbar.update(1)\n",
    "pbar.close()\n",
    "\n",
    "simlpe_tencent_vocab = sorted(simlpe_tencent_vocab.items(), key=lambda x: (x[1], x[0]), reverse=True)"
   ]
  },
  {
   "cell_type": "code",
   "execution_count": 9,
   "metadata": {},
   "outputs": [
    {
     "output_type": "error",
     "ename": "TypeError",
     "evalue": "'tuple' object does not support item assignment",
     "traceback": [
      "\u001b[0;31m---------------------------------------------------------------------------\u001b[0m",
      "\u001b[0;31mTypeError\u001b[0m                                 Traceback (most recent call last)",
      "\u001b[0;32m<ipython-input-9-92fa7820cdd5>\u001b[0m in \u001b[0;36m<module>\u001b[0;34m\u001b[0m\n\u001b[1;32m      4\u001b[0m \u001b[0;32mfor\u001b[0m \u001b[0ms\u001b[0m \u001b[0;32min\u001b[0m \u001b[0msimlpe_tencent_vocab\u001b[0m\u001b[0;34m:\u001b[0m\u001b[0;34m\u001b[0m\u001b[0;34m\u001b[0m\u001b[0m\n\u001b[1;32m      5\u001b[0m     \u001b[0;32mif\u001b[0m \u001b[0ms\u001b[0m\u001b[0;34m[\u001b[0m\u001b[0;36m0\u001b[0m\u001b[0;34m]\u001b[0m \u001b[0;34m==\u001b[0m \u001b[0;34m\"unk\"\u001b[0m\u001b[0;34m:\u001b[0m\u001b[0;34m\u001b[0m\u001b[0;34m\u001b[0m\u001b[0m\n\u001b[0;32m----> 6\u001b[0;31m         \u001b[0ms\u001b[0m\u001b[0;34m[\u001b[0m\u001b[0;36m0\u001b[0m\u001b[0;34m]\u001b[0m \u001b[0;34m=\u001b[0m \u001b[0;34m\"[UNK]\"\u001b[0m\u001b[0;34m\u001b[0m\u001b[0;34m\u001b[0m\u001b[0m\n\u001b[0m\u001b[1;32m      7\u001b[0m     \u001b[0;32melif\u001b[0m \u001b[0ms\u001b[0m\u001b[0;34m[\u001b[0m\u001b[0;36m0\u001b[0m\u001b[0;34m]\u001b[0m \u001b[0;34m==\u001b[0m \u001b[0;34m\"</s>\"\u001b[0m\u001b[0;34m:\u001b[0m\u001b[0;34m\u001b[0m\u001b[0;34m\u001b[0m\u001b[0m\n\u001b[1;32m      8\u001b[0m         \u001b[0ms\u001b[0m\u001b[0;34m[\u001b[0m\u001b[0;36m0\u001b[0m\u001b[0;34m]\u001b[0m \u001b[0;34m=\u001b[0m \u001b[0;34m\"[unused1]\"\u001b[0m\u001b[0;34m\u001b[0m\u001b[0;34m\u001b[0m\u001b[0m\n",
      "\u001b[0;31mTypeError\u001b[0m: 'tuple' object does not support item assignment"
     ]
    }
   ],
   "source": [
    "# 储存相关数据\n",
    "import numpy as np\n",
    "tmp = []\n",
    "for s in simlpe_tencent_vocab:\n",
    "    if s[0] == \"unk\":\n",
    "        s = list(s)\n",
    "        s[0] = \"[UNK]\"\n",
    "        s = tuple(s)\n",
    "    elif s[0] == \"</s>\":\n",
    "        s = list(s)\n",
    "        s[0] = \"[unused1]\"\n",
    "        s = tuple(s)\n",
    "    tmp.append(s)\n",
    "simlpe_tencent_vocab = tmp\n",
    "\n",
    "simlpe_tencent_embedding_dict = {emb[0]:np.array([float(e) for e in emb[1].split(\" \")]) for emb in simlpe_tencent_embedding}\n",
    "simlpe_tencent_embedding_to_save = np.array([simlpe_tencent_embedding_dict[word[0]] for word in simlpe_tencent_vocab])\n",
    "np.save(\"../user_data/data/dicts/simple_tencent_embedding.npy\", simlpe_tencent_embedding_to_save)\n",
    "\n",
    "simlpe_tencent_vocab_to_save = [f\"{word} {freq}\" for word, freq in simlpe_tencent_vocab]\n",
    "with open(\"../user_data/data/dicts/simple_tencent_vocab.txt\", \"w\", encoding=\"utf8\") as w:\n",
    "    w.write(\"\\n\".join(simlpe_tencent_vocab_to_save))\n"
   ]
  },
  {
   "cell_type": "code",
   "execution_count": null,
   "metadata": {},
   "outputs": [],
   "source": [
    "\"[UNK]\" in simlpe_tencent_vocab"
   ]
  },
  {
   "cell_type": "code",
   "execution_count": null,
   "metadata": {},
   "outputs": [],
   "source": [
    "simlpe_tencent_embedding_dict[]"
   ]
  },
  {
   "cell_type": "code",
   "execution_count": null,
   "metadata": {},
   "outputs": [],
   "source": [
    "# 切词后，tencent_embedding中词的占比\n",
    "\n",
    "import jieba\n",
    "jieba.initialize(\"../user_data/data/dicts/simple_tencent_vocab.txt\")"
   ]
  },
  {
   "cell_type": "code",
   "execution_count": null,
   "metadata": {},
   "outputs": [],
   "source": [
    "with open()"
   ]
  },
  {
   "cell_type": "code",
   "execution_count": null,
   "metadata": {},
   "outputs": [],
   "source": [
    "all_words = set()\n",
    "tencent_words = set()\n",
    "simlpe_tencent_vocab = [s[0] for s in simlpe_tencent_vocab]\n",
    "for text in texts:\n",
    "    for word in jieba.cut(text):\n",
    "        all_words.add(word)\n",
    "        if word in simlpe_tencent_vocab:\n",
    "            tencent_words.add(word)"
   ]
  },
  {
   "cell_type": "code",
   "execution_count": null,
   "metadata": {},
   "outputs": [],
   "source": [
    "len(all_words)"
   ]
  },
  {
   "cell_type": "code",
   "execution_count": null,
   "metadata": {},
   "outputs": [],
   "source": [
    "text"
   ]
  },
  {
   "cell_type": "code",
   "execution_count": null,
   "metadata": {},
   "outputs": [],
   "source": [
    "json.dump?"
   ]
  },
  {
   "cell_type": "code",
   "execution_count": null,
   "metadata": {},
   "outputs": [],
   "source": [
    "import json"
   ]
  },
  {
   "cell_type": "code",
   "execution_count": null,
   "metadata": {},
   "outputs": [],
   "source": [
    "simlpe_tencent_vocab.append(\"[unused1]\")"
   ]
  },
  {
   "cell_type": "code",
   "execution_count": null,
   "metadata": {},
   "outputs": [],
   "source": [
    "import json \n",
    "\n",
    "with open(\"../user_data/data/dicts/lexicon.json\", \"r\") as r:\n",
    "    words = json.load(r)"
   ]
  },
  {
   "cell_type": "code",
   "execution_count": null,
   "metadata": {},
   "outputs": [],
   "source": [
    "import re\n",
    "\n",
    "words = [w for w in words if (re.search(\"[\\u4e00-\\u9fa5]\", w) and len(w)>1)]"
   ]
  },
  {
   "cell_type": "code",
   "execution_count": null,
   "metadata": {},
   "outputs": [],
   "source": [
    "import json \n",
    "\n",
    "with open(\"../user_data/data/dicts/lexicon.json\", \"w\") as w:\n",
    "    json.dump(words, w, ensure_ascii=False, indent=2)"
   ]
  },
  {
   "cell_type": "code",
   "execution_count": null,
   "metadata": {},
   "outputs": [],
   "source": [
    "words"
   ]
  },
  {
   "cell_type": "code",
   "execution_count": null,
   "metadata": {},
   "outputs": [],
   "source": [
    "\".e\" in vocab"
   ]
  },
  {
   "cell_type": "code",
   "execution_count": null,
   "metadata": {},
   "outputs": [],
   "source": []
  }
 ]
}